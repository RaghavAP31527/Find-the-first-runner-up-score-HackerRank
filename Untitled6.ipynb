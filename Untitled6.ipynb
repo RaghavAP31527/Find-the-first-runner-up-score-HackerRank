{
 "cells": [
  {
   "cell_type": "code",
   "execution_count": 2,
   "metadata": {},
   "outputs": [
    {
     "name": "stdout",
     "output_type": "stream",
     "text": [
      "5 \n",
      "2 3 6 6 5\n",
      "5\n"
     ]
    }
   ],
   "source": [
    "def find_second_largest(numbers):\n",
    "    numbers.sort(reverse=True)\n",
    "    unique_numbers = set(numbers)\n",
    "    \n",
    "    if len(unique_numbers) < 2:\n",
    "        return \"There is no second largest element.\"\n",
    "    \n",
    "    unique_numbers.remove(max(unique_numbers))\n",
    "    return max(unique_numbers)\n",
    "\n",
    "n = int(input())\n",
    "input_list = list(map(int, input().split()))\n",
    "second_largest = find_second_largest(input_list)\n",
    "print(second_largest)\n"
   ]
  },
  {
   "cell_type": "code",
   "execution_count": null,
   "metadata": {},
   "outputs": [],
   "source": []
  }
 ],
 "metadata": {
  "kernelspec": {
   "display_name": "Python 3",
   "language": "python",
   "name": "python3"
  },
  "language_info": {
   "codemirror_mode": {
    "name": "ipython",
    "version": 3
   },
   "file_extension": ".py",
   "mimetype": "text/x-python",
   "name": "python",
   "nbconvert_exporter": "python",
   "pygments_lexer": "ipython3",
   "version": "3.6.8"
  },
  "toc": {
   "base_numbering": 1,
   "nav_menu": {},
   "number_sections": true,
   "sideBar": true,
   "skip_h1_title": false,
   "title_cell": "Table of Contents",
   "title_sidebar": "Contents",
   "toc_cell": false,
   "toc_position": {},
   "toc_section_display": true,
   "toc_window_display": false
  }
 },
 "nbformat": 4,
 "nbformat_minor": 2
}
